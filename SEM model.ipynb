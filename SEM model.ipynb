{
 "cells": [
  {
   "cell_type": "code",
   "execution_count": null,
   "metadata": {},
   "outputs": [
    {
     "data": {
      "application/javascript": [
       "require.undef(\"nbextensions/vpython_libraries/glow.min\");"
      ],
      "text/plain": [
       "<IPython.core.display.Javascript object>"
      ]
     },
     "metadata": {},
     "output_type": "display_data"
    },
    {
     "data": {
      "application/javascript": [
       "require.undef(\"nbextensions/vpython_libraries/glowcomm\");"
      ],
      "text/plain": [
       "<IPython.core.display.Javascript object>"
      ]
     },
     "metadata": {},
     "output_type": "display_data"
    },
    {
     "data": {
      "application/javascript": [
       "require.undef(\"nbextensions/vpython_libraries/jquery-ui.custom.min\");"
      ],
      "text/plain": [
       "<IPython.core.display.Javascript object>"
      ]
     },
     "metadata": {},
     "output_type": "display_data"
    },
    {
     "data": {
      "application/javascript": [
       "require([\"nbextensions/vpython_libraries/glow.min\"], function(){console.log(\"GLOW LOADED\");})"
      ],
      "text/plain": [
       "<IPython.core.display.Javascript object>"
      ]
     },
     "metadata": {},
     "output_type": "display_data"
    },
    {
     "data": {
      "application/javascript": [
       "require([\"nbextensions/vpython_libraries/glowcomm\"], function(){console.log(\"GLOWCOMM LOADED\");})"
      ],
      "text/plain": [
       "<IPython.core.display.Javascript object>"
      ]
     },
     "metadata": {},
     "output_type": "display_data"
    },
    {
     "data": {
      "application/javascript": [
       "require([\"nbextensions/vpython_libraries/jquery-ui.custom.min\"], function(){console.log(\"JQUERY LOADED\");})"
      ],
      "text/plain": [
       "<IPython.core.display.Javascript object>"
      ]
     },
     "metadata": {},
     "output_type": "display_data"
    },
    {
     "data": {
      "text/html": [
       "<div id=\"glowscript\" class=\"glowscript\"></div>"
      ],
      "text/plain": [
       "<IPython.core.display.HTML object>"
      ]
     },
     "metadata": {},
     "output_type": "display_data"
    },
    {
     "data": {
      "application/javascript": [
       "window.__context = { glowscript_container: $(\"#glowscript\").removeAttr(\"id\")}"
      ],
      "text/plain": [
       "<IPython.core.display.Javascript object>"
      ]
     },
     "metadata": {},
     "output_type": "display_data"
    }
   ],
   "source": [
    "from vpython import *\n",
    "Re=6.378e8\n",
    "Rm=1.74e8\n",
    "Rs=6.95e9\n",
    "t=0\n",
    "dt=24*60\n",
    "Se=1.5e11\n",
    "Sm=3.48e8\n",
    "Ms=1.989e30\n",
    "Me=5.97e24\n",
    "Mm=7.34767e22\n",
    "G=6.67e-11\n",
    "\n",
    "FEM = G*Me*Mm/(Sm)**2\n",
    "FES = G*Me*Ms/(Se)**2\n",
    "\n",
    "#angular velocity of moon wrt earth\n",
    "wM = sqrt(FEM/(Mm*Sm))\n",
    "vM = wM*Sm\n",
    "print(\"Angular velocity of moon w.r.t earth = \",wM,\"rad/s\\nVelocity =\",vM,\"m/s\")\n",
    "\n",
    "\n",
    "#angular velocity of earth wrt sun\n",
    "wE = sqrt(FES/(Me*Se))\n",
    "vE = wE*Se\n",
    "print(\"Angular velocity of earth w.r.t sun = \",wE,\"rad/s\\nVelocity =\",vE,\"m/s\")\n",
    "\n",
    "\n",
    "#Initial Angular position\n",
    "theta0 = 0\n",
    "#At t\n",
    "def posEarth(t):\n",
    "    return theta0+wE*t\n",
    "def posMoon(t):\n",
    "    return theta0+wM*t\n",
    "\n",
    "\n",
    "def fromDaysToS(d):\n",
    "    s = d*24*60*60\n",
    "    return s\n",
    "\n",
    "def fromStoDays(s):\n",
    "    d = s/60/60/24\n",
    "    return d\n",
    "\n",
    "def fromDaysToh(d):\n",
    "    h = d * 24\n",
    "    return h\n",
    "\n",
    "print(\"\\nSimulation Earth-Moon-Sun motion\\n\")\n",
    "days = 365\n",
    "seconds = fromDaysToS(days)\n",
    "print(\"Days: \",days)\n",
    "print(\"Seconds: \",seconds)\n",
    "\n",
    "\n",
    "\n",
    "v = vector(Sm,0,0)\n",
    "E = sphere(pos=vector(Se,0,0),color=color.cyan,radius=Re,make_trail=True)\n",
    "M = sphere(pos=E.pos+v,color=color.red,radius=Rm,make_trail=True)\n",
    "S = sphere(pos=vector(0,0,0),color=color.yellow,radius=Rs)\n",
    "\n",
    "t=0\n",
    "thetaT=0\n",
    "dt=5000\n",
    "dthetaE = posEarth(t+dt) - posEarth(t)\n",
    "dthetaM = posMoon(t+dt) - posMoon(t)\n",
    "print(\"delta t:\",dt,\"seconds. Days:\",fromStoDays(dt),\"hours:\",fromDaysToh(fromStoDays(dt)),sep=\" \")\n",
    "print(\"Variation angular position of the Earth:\",dthetaE,\"rad/s that's to say\",degrees(dthetaE),\"degrees\",sep=\" \")\n",
    "print(\"Variation angular position of the Moon:\",dthetaM,\"rad/s that's to say\",degrees(dthetaM),\"degrees\",sep=\" \")\n",
    "\n",
    "\n",
    "\n",
    "while True:\n",
    "    rate(100)\n",
    "    thetaEarth = posEarth(t+dt) - posEarth(t)\n",
    "    thetaMoon = posMoon(t+dt) - posMoon(t)\n",
    "    \n",
    "    E.pos = rotate(E.pos,angle=thetaEarth)#,axis=vector(0,0,1))\n",
    "    v = rotate(v,angle=thetaMoon,axis=vector(0,0,1))\n",
    "    M.pos = E.pos+v\n",
    "    t=t+dt"
   ]
  },
  {
   "cell_type": "code",
   "execution_count": 1,
   "metadata": {},
   "outputs": [
    {
     "name": "stdout",
     "output_type": "stream",
     "text": [
      "delta t: 5000 seconds. Days: 0.0578703703704 hours: 1.38888888889\n",
      "Variation angular position of the Earth: 0.00099131898667 rad/s that's to say 0.0567983940874 degrees\n",
      "Variation angular position of the Moon: 0.0153691985425 rad/s that's to say 0.880590210985 degrees\n"
     ]
    }
   ],
   "source": [
    "print(\"delta t:\",dt,\"seconds. Days:\",fromStoDays(dt),\"hours:\",fromDaysToh(fromStoDays(dt)),sep=\" \")\n",
    "print(\"Variation angular position of the Earth:\",dthetaE,\"rad/s that's to say\",degrees(dthetaE),\"degrees\",sep=\" \")\n",
    "print(\"Variation angular position of the Moon:\",dthetaM,\"rad/s that's to say\",degrees(dthetaM),\"degrees\",sep=\" \")\n"
   ]
  },
  {
   "cell_type": "code",
   "execution_count": null,
   "metadata": {},
   "outputs": [
    {
     "data": {
      "application/javascript": [
       "require.undef(\"nbextensions/vpython_libraries/glow.min\");"
      ],
      "text/plain": [
       "<IPython.core.display.Javascript object>"
      ]
     },
     "metadata": {},
     "output_type": "display_data"
    },
    {
     "data": {
      "application/javascript": [
       "require.undef(\"nbextensions/vpython_libraries/glowcomm\");"
      ],
      "text/plain": [
       "<IPython.core.display.Javascript object>"
      ]
     },
     "metadata": {},
     "output_type": "display_data"
    },
    {
     "data": {
      "application/javascript": [
       "require.undef(\"nbextensions/vpython_libraries/jquery-ui.custom.min\");"
      ],
      "text/plain": [
       "<IPython.core.display.Javascript object>"
      ]
     },
     "metadata": {},
     "output_type": "display_data"
    },
    {
     "data": {
      "application/javascript": [
       "require([\"nbextensions/vpython_libraries/glow.min\"], function(){console.log(\"GLOW LOADED\");})"
      ],
      "text/plain": [
       "<IPython.core.display.Javascript object>"
      ]
     },
     "metadata": {},
     "output_type": "display_data"
    },
    {
     "data": {
      "application/javascript": [
       "require([\"nbextensions/vpython_libraries/glowcomm\"], function(){console.log(\"GLOWCOMM LOADED\");})"
      ],
      "text/plain": [
       "<IPython.core.display.Javascript object>"
      ]
     },
     "metadata": {},
     "output_type": "display_data"
    },
    {
     "data": {
      "application/javascript": [
       "require([\"nbextensions/vpython_libraries/jquery-ui.custom.min\"], function(){console.log(\"JQUERY LOADED\");})"
      ],
      "text/plain": [
       "<IPython.core.display.Javascript object>"
      ]
     },
     "metadata": {},
     "output_type": "display_data"
    },
    {
     "data": {
      "text/html": [
       "<div id=\"glowscript\" class=\"glowscript\"></div>"
      ],
      "text/plain": [
       "<IPython.core.display.HTML object>"
      ]
     },
     "metadata": {},
     "output_type": "display_data"
    },
    {
     "data": {
      "application/javascript": [
       "window.__context = { glowscript_container: $(\"#glowscript\").removeAttr(\"id\")}"
      ],
      "text/plain": [
       "<IPython.core.display.Javascript object>"
      ]
     },
     "metadata": {},
     "output_type": "display_data"
    }
   ],
   "source": [
    "#Not absolute... just for simulation\n",
    "\n",
    "from vpython import *\n",
    "Re=6.378e8\n",
    "Rm=1.74e8\n",
    "Rs=6.95e9\n",
    "t=0\n",
    "dt=24*60\n",
    "Se=1.5e11\n",
    "Sm=3.48e8\n",
    "Ms=1.989e30\n",
    "Me=5.97e24\n",
    "Mm=7.34767e22\n",
    "G=6.67e-11\n",
    "\n",
    "FEM = G*Me*Mm/(Sm)**2\n",
    "FES = G*Me*Ms/(Se)**2\n",
    "\n",
    "#angular velocity of moon wrt earth\n",
    "wM = sqrt(FEM/(Mm*Sm))\n",
    "vM = wM*Sm\n",
    "print(\"Angular velocity of moon w.r.t earth = \",wM,\"rad/s\\nVelocity =\",vM,\"m/s\")\n",
    "\n",
    "\n",
    "#angular velocity of earth wrt sun\n",
    "wE = sqrt(FES/(Me*Se))\n",
    "vE = wE*Se\n",
    "print(\"Angular velocity of earth w.r.t sun = \",wE,\"rad/s\\nVelocity =\",vE,\"m/s\")\n",
    "\n",
    "\n",
    "#Initial Angular position\n",
    "theta0 = 0\n",
    "#At t\n",
    "def posEarth(t):\n",
    "    return theta0+wE*t\n",
    "def posMoon(t):\n",
    "    return theta0+wM*t\n",
    "\n",
    "\n",
    "def fromDaysToS(d):\n",
    "    s = d*24*60*60\n",
    "    return s\n",
    "\n",
    "def fromStoDays(s):\n",
    "    d = s/60/60/24\n",
    "    return d\n",
    "\n",
    "def fromDaysToh(d):\n",
    "    h = d * 24\n",
    "    return h\n",
    "\n",
    "print(\"\\nSimulation Earth-Moon-Sun motion\\n\")\n",
    "days = 365\n",
    "seconds = fromDaysToS(days)\n",
    "print(\"Days: \",days)\n",
    "print(\"Seconds: \",seconds)\n",
    "\n",
    "\n",
    "\n",
    "v = vector(1,0,0)\n",
    "E = sphere(pos=vector(4,0,0),color=color.cyan,radius=0.5,make_trail=True)\n",
    "M = sphere(pos=E.pos+v,color=color.red,radius=0.25,make_trail=True)\n",
    "S = sphere(pos=vector(0,0,0),color=color.yellow,radius=1)\n",
    "\n",
    "t=0\n",
    "thetaT=0\n",
    "dt=3600\n",
    "dthetaE = posEarth(t+dt) - posEarth(t)\n",
    "dthetaM = posMoon(t+dt) - posMoon(t)\n",
    "print(\"delta t:\",dt,\"seconds. Days:\",fromStoDays(dt),\"hours:\",fromDaysToh(fromStoDays(dt)),sep=\" \")\n",
    "print(\"Variation angular position of the Earth:\",dthetaE,\"rad/s that's to say\",degrees(dthetaE),\"degrees\",sep=\" \")\n",
    "print(\"Variation angular position of the Moon:\",dthetaM,\"rad/s that's to say\",degrees(dthetaM),\"degrees\",sep=\" \")\n",
    "\n",
    "\n",
    "\n",
    "while True:\n",
    "    rate(100)\n",
    "    thetaEarth = posEarth(t+dt) - posEarth(t)\n",
    "    thetaMoon = posMoon(t+dt) - posMoon(t)\n",
    "    \n",
    "    E.pos = rotate(E.pos,angle=thetaEarth)#,axis=vector(0,0,1))\n",
    "    v = rotate(v,angle=thetaMoon,axis=vector(0,0,1))\n",
    "    M.pos = E.pos+v/\n",
    "    t=t+dt"
   ]
  },
  {
   "cell_type": "code",
   "execution_count": null,
   "metadata": {},
   "outputs": [],
   "source": []
  }
 ],
 "metadata": {
  "kernelspec": {
   "display_name": "VPython",
   "language": "python",
   "name": "vpython"
  },
  "language_info": {
   "codemirror_mode": {
    "name": "ipython",
    "version": 2
   },
   "file_extension": ".py",
   "mimetype": "text/x-python",
   "name": "python",
   "nbconvert_exporter": "python",
   "pygments_lexer": "ipython2",
   "version": "2.7.14"
  }
 },
 "nbformat": 4,
 "nbformat_minor": 2
}
